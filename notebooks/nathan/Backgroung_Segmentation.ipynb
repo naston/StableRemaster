{
 "cells": [
  {
   "cell_type": "code",
   "execution_count": 7,
   "id": "9929fa32",
   "metadata": {},
   "outputs": [],
   "source": [
    "DATA_PATH = '../../data/02_scenes/'"
   ]
  },
  {
   "cell_type": "markdown",
   "id": "568ea6d7",
   "metadata": {},
   "source": [
    "## Test w/ Object Detection"
   ]
  },
  {
   "cell_type": "code",
   "execution_count": null,
   "id": "26a0e720",
   "metadata": {},
   "outputs": [],
   "source": [
    "import pixellib\n",
    "from pixellib.torchbackend.instance import instanceSegmentation\n",
    "\n",
    "ins = instanceSegmentation()\n",
    "ins.load_model(\"pointrend_resnet50.pkl\", detection_speed = \"fast\") # detection_speed=\"rapid\"\n",
    "ins.segmentImage(\"image.jpg\", show_bboxes=True, output_image_name=\"output_image.jpg\")"
   ]
  },
  {
   "cell_type": "markdown",
   "id": "963c4105",
   "metadata": {},
   "source": [
    "## Test w/ Foreground Detection"
   ]
  },
  {
   "cell_type": "code",
   "execution_count": 11,
   "id": "f871d083",
   "metadata": {},
   "outputs": [],
   "source": [
    "import numpy as np\n",
    "import cv2"
   ]
  },
  {
   "cell_type": "code",
   "execution_count": null,
   "id": "35f3e923",
   "metadata": {},
   "outputs": [],
   "source": [
    "import matplotlib.pyplot as plt"
   ]
  },
  {
   "cell_type": "code",
   "execution_count": null,
   "id": "db4c6a87",
   "metadata": {},
   "outputs": [],
   "source": [
    "im_path = ''\n",
    "\n",
    "img = cv2.imread(im_path)\n",
    "mask = np.zeros(img.shape[:2],np.uint8)\n",
    "\n",
    "\n",
    "bgdModel = np.zeros((1,65),np.float64)\n",
    "fgdModel = np.zeros((1,65),np.float64)\n",
    "\n",
    "\n",
    "\n",
    "rect = (300,30,421,378)\n",
    "cv2.grabCut(img,mask,rect,bgdModel,fgdModel,5,cv2.GC_INIT_WITH_RECT)\n",
    "\n",
    "\n",
    "mask2  =  np.where((mask==2)|(mask==0),0,1).astype('uint8')\n",
    "img = img*mask2[:,:,np.newaxis]\n",
    "\n",
    "\n",
    "plt.subplot(121), plt.imshow(img)\n",
    "plt.title(\"grabcut\"), plt.xticks([]), plt.yticks([])\n",
    "plt.subplot(122),\n",
    "plt.imshow(cv2.cvtColor(cv2.imread(im_path),\n",
    "cv2.COLOR_BGR2RGB))\n",
    "plt.title(\"original\"), plt.xticks([]), plt.yticks([])\n",
    "\n",
    "\n",
    "plt.show()"
   ]
  },
  {
   "cell_type": "raw",
   "id": "f3918009",
   "metadata": {},
   "source": [
    "static\n",
    "atla_s1e1-Scene-022.mp4\n",
    "151\n",
    "\n",
    "pan\n",
    "182"
   ]
  },
  {
   "cell_type": "code",
   "execution_count": 18,
   "id": "6ebce783",
   "metadata": {},
   "outputs": [],
   "source": [
    "def get_frame_durations(cap, fps):\n",
    "    \"\"\"A function that returns the list of durations where to save the frames\"\"\"\n",
    "    \n",
    "    # get the clip duration by dividing number of frames by the number of frames per second\n",
    "    clip_duration = cap.get(cv2.CAP_PROP_FRAME_COUNT) / cap.get(cv2.CAP_PROP_FPS)\n",
    "    \n",
    "    # use np.arange() to make floating-point steps\n",
    "    return np.arange(0, clip_duration, 1 / fps)"
   ]
  },
  {
   "cell_type": "code",
   "execution_count": 19,
   "id": "c714fc2b",
   "metadata": {},
   "outputs": [],
   "source": [
    "def split_video(video_file):\n",
    "    \n",
    "    # read in video   \n",
    "    cap = cv2.VideoCapture(video_file)\n",
    "    # get video FPS\n",
    "    fps = min(cap.get(cv2.CAP_PROP_FPS), SAVING_FRAMES_PER_SECOND)\n",
    "\n",
    "    # get the list of duration spots to save\n",
    "    saving_frames_durations = get_frame_durations(cap, fps)\n",
    "    \n",
    "    # start the loop\n",
    "    frames = []\n",
    "    count = 0\n",
    "    while True:\n",
    "        is_read, frame = cap.read()\n",
    "        if is_read:\n",
    "            frames.append(frame)\n",
    "        else:\n",
    "            break\n",
    "        \"\"\"if not is_read:\n",
    "            # break out of the loop if there are no frames to read\n",
    "            break\n",
    "        # get the duration by dividing the frame count by the FPS\n",
    "        frame_duration = count / fps\n",
    "        try:\n",
    "            # get the earliest duration to save\n",
    "            closest_duration = saving_frames_durations[0]\n",
    "        except IndexError:\n",
    "            # the list is empty, all duration frames were saved\n",
    "            break\n",
    "        if frame_duration >= closest_duration:\n",
    "            # if closest duration is less than or equals the frame duration, \n",
    "            # then save the frame\n",
    "            frame_duration_formatted = format_timedelta(timedelta(seconds=frame_duration))\n",
    "            cv2.imwrite(os.path.join(filename, f\"frame{frame_duration_formatted}.jpg\"), frame) \n",
    "            # drop the duration spot from the list, since this duration spot is already saved\n",
    "            try:\n",
    "                saving_frames_durations.pop(0)\n",
    "            except IndexError:\n",
    "                pass\n",
    "        # increment the frame count\n",
    "        count += 1\"\"\"\n",
    "    return frames"
   ]
  },
  {
   "cell_type": "code",
   "execution_count": 20,
   "id": "2cc101fb",
   "metadata": {},
   "outputs": [],
   "source": [
    "SAVING_FRAMES_PER_SECOND = 30\n",
    "cap_path = f'{DATA_PATH}atla_s1e1-Scene-022.mp4'\n",
    "frames = split_video(cap_path)"
   ]
  },
  {
   "cell_type": "code",
   "execution_count": 21,
   "id": "8504ff12",
   "metadata": {},
   "outputs": [
    {
     "name": "stdout",
     "output_type": "stream",
     "text": [
      "145\n"
     ]
    }
   ],
   "source": [
    "# display each frame\n",
    "print(len(frames))"
   ]
  },
  {
   "cell_type": "code",
   "execution_count": 22,
   "id": "2c3b4cb5",
   "metadata": {},
   "outputs": [
    {
     "data": {
      "text/plain": [
       "(720, 940, 3)"
      ]
     },
     "execution_count": 22,
     "metadata": {},
     "output_type": "execute_result"
    }
   ],
   "source": [
    "frames[0].shape"
   ]
  },
  {
   "cell_type": "code",
   "execution_count": null,
   "id": "337182e8",
   "metadata": {},
   "outputs": [],
   "source": []
  }
 ],
 "metadata": {
  "kernelspec": {
   "display_name": "Python 3 (ipykernel)",
   "language": "python",
   "name": "python3"
  },
  "language_info": {
   "codemirror_mode": {
    "name": "ipython",
    "version": 3
   },
   "file_extension": ".py",
   "mimetype": "text/x-python",
   "name": "python",
   "nbconvert_exporter": "python",
   "pygments_lexer": "ipython3",
   "version": "3.10.9"
  }
 },
 "nbformat": 4,
 "nbformat_minor": 5
}
